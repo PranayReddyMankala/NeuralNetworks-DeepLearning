{
 "cells": [
  {
   "cell_type": "markdown",
   "id": "08aae7dc",
   "metadata": {},
   "source": [
    "## 1. Implement Naïve Bayes method using scikit-learn library"
   ]
  },
  {
   "cell_type": "code",
   "execution_count": 1,
   "id": "7e1bb325",
   "metadata": {},
   "outputs": [],
   "source": [
    "import pandas as pd  #Importing Libraries\n",
    "from sklearn.svm import SVC\n",
    "from sklearn.naive_bayes import GaussianNB\n",
    "from sklearn.model_selection import train_test_split\n",
    "import time\n",
    "import warnings\n",
    "warnings.filterwarnings(\"ignore\")\n",
    "from sklearn import metrics"
   ]
  },
  {
   "cell_type": "markdown",
   "id": "817e0bde",
   "metadata": {},
   "source": [
    "#### Use dataset available with name glass"
   ]
  },
  {
   "cell_type": "code",
   "execution_count": 6,
   "id": "d4f7907b",
   "metadata": {},
   "outputs": [
    {
     "name": "stdout",
     "output_type": "stream",
     "text": [
      "(214, 10)\n"
     ]
    }
   ],
   "source": [
    "# Using dataset glass\n",
    "data = pd.read_csv(\"C:\\\\Users\\\\prana\\\\Downloads\\\\Neural networks\\\\glass.csv\")\n",
    "print(data.shape)\n",
    "X_train, X_test = train_test_split(\n",
    "    data, test_size=0.2, random_state=int(time.time()))"
   ]
  },
  {
   "cell_type": "markdown",
   "id": "65eef759",
   "metadata": {},
   "source": [
    "#### Use train_test_split to create training and testing part"
   ]
  },
  {
   "cell_type": "code",
   "execution_count": 7,
   "id": "9e720e06",
   "metadata": {},
   "outputs": [],
   "source": [
    "# Use train_test_split to create training and testing part\n",
    "features = [\n",
    "    \"RI\", \"Na\", \"Mg\", \"Al\", \"Si\", \"K\", \"Ca\", \"Ba\", \"Fe\"\n",
    "]"
   ]
  },
  {
   "cell_type": "markdown",
   "id": "a5181efd",
   "metadata": {},
   "source": [
    "#### Evaluate the model on test part using score and classification_report(y_true, y_pred)"
   ]
  },
  {
   "cell_type": "code",
   "execution_count": 8,
   "id": "24509d62",
   "metadata": {},
   "outputs": [
    {
     "name": "stdout",
     "output_type": "stream",
     "text": [
      "Naïve Bayes\n",
      "Total number of points: 43\n",
      "Mislabeled points : 26\n",
      "Accuracy 39.53%\n",
      "\n",
      "\n",
      "              precision    recall  f1-score   support\n",
      "\n",
      "           1       0.44      0.44      0.44        16\n",
      "           2       0.20      0.07      0.11        14\n",
      "           3       0.08      0.50      0.14         2\n",
      "           5       0.50      0.33      0.40         3\n",
      "           6       1.00      1.00      1.00         1\n",
      "           7       0.86      0.86      0.86         7\n",
      "\n",
      "    accuracy                           0.40        43\n",
      "   macro avg       0.51      0.53      0.49        43\n",
      "weighted avg       0.43      0.40      0.39        43\n",
      "\n"
     ]
    }
   ],
   "source": [
    "#Evaluate the model on test part using score and classification_report(y_true, y_pred)\n",
    "\n",
    "gauss = GaussianNB()  # Naïve Bayes Classifier\n",
    "\n",
    "gauss.fit(\n",
    "    X_train[features].values,    # train classifier\n",
    "    X_train[\"Type\"]\n",
    ")\n",
    "# making predictions\n",
    "y_pred = gauss.predict(X_test[features])\n",
    "print(\"Naïve Bayes\\nTotal number of points: {}\\nMislabeled points : {}\\nAccuracy {:05.2f}%\"\n",
    "      .format(\n",
    "          X_test.shape[0],\n",
    "          (X_test[\"Type\"] != y_pred).sum(),\n",
    "          100 * (1 - (X_test[\"Type\"] != y_pred).sum() / X_test.shape[0])\n",
    "      ))\n",
    "print(\"\\n\")\n",
    "# Naïve Bayes Classifier performance\n",
    "# classification_report(y_true, y_pred)\n",
    "print(metrics.classification_report(X_test[\"Type\"], y_pred))"
   ]
  },
  {
   "cell_type": "markdown",
   "id": "88a5b848",
   "metadata": {},
   "source": [
    "## 2. Implement linear SVM method using scikit library"
   ]
  },
  {
   "cell_type": "markdown",
   "id": "d3247568",
   "metadata": {},
   "source": [
    "Use the same dataset above\n",
    "\n",
    "Use train_test_split to create training and testing part\n",
    "\n",
    "Evaluate the model on test part using score and classification_report(y_true, y_pred)"
   ]
  },
  {
   "cell_type": "code",
   "execution_count": 9,
   "id": "a65022a3",
   "metadata": {},
   "outputs": [
    {
     "name": "stdout",
     "output_type": "stream",
     "text": [
      "Linear SVM accuracy is: 65.12\n",
      "SVM RBF model accuracy is: 32.56\n",
      "\n",
      "\n",
      "              precision    recall  f1-score   support\n",
      "\n",
      "           1       0.00      0.00      0.00        16\n",
      "           2       0.33      1.00      0.49        14\n",
      "           3       0.00      0.00      0.00         2\n",
      "           5       0.00      0.00      0.00         3\n",
      "           6       0.00      0.00      0.00         1\n",
      "           7       0.00      0.00      0.00         7\n",
      "\n",
      "    accuracy                           0.33        43\n",
      "   macro avg       0.05      0.17      0.08        43\n",
      "weighted avg       0.11      0.33      0.16        43\n",
      "\n"
     ]
    }
   ],
   "source": [
    "# LSV Classification\n",
    "svc_linear = SVC(kernel='linear')\n",
    "# train linear SVM model\n",
    "svc_linear.fit(\n",
    "    X_train[features].values,\n",
    "    X_train[\"Type\"]\n",
    ")\n",
    "Y_pred = svc_linear.predict(X_test[features])\n",
    "\n",
    "# Linear SVM Model performance\n",
    "acc_svc = round(svc_linear.score(\n",
    "    X_test[features].values, X_test[\"Type\"]) * 100, 2)\n",
    "print(\"Linear SVM accuracy is:\", acc_svc)\n",
    "# Support vector classifier (SVC) with the radial basis function kernel (RBF)\n",
    "svc_rbf = SVC(kernel='rbf')\n",
    "svc_rbf.fit(\n",
    "    X_train[features].values,\n",
    "    X_train[\"Type\"]\n",
    ")\n",
    "# model predictions\n",
    "Y_pred = svc_rbf.predict(X_test[features])\n",
    "# SVM RBF Model performance\n",
    "acc_svc = round(svc_rbf.score(\n",
    "    X_test[features].values, X_test[\"Type\"]) * 100, 2)\n",
    "print(\"SVM RBF model accuracy is:\", acc_svc)\n",
    "print(\"\\n\")\n",
    "print(metrics.classification_report(X_test[\"Type\"], Y_pred))"
   ]
  },
  {
   "cell_type": "markdown",
   "id": "6bddcb3f",
   "metadata": {},
   "source": [
    "#### Which algorithm you got better accuracy? Can you justify why?"
   ]
  },
  {
   "cell_type": "markdown",
   "id": "73c5f36d",
   "metadata": {},
   "source": [
    "According to the above accuracy scores Naive Bayes method is best for data visualization than that of Support Vector Machine method. The performance of the each algorithm depends on several factors. So, few algorithms works well for only few of the problems and does not work well for other problems. By evaluating the model using various algorithms we can compare and then state which one is best."
   ]
  },
  {
   "cell_type": "code",
   "execution_count": null,
   "id": "baa589e9",
   "metadata": {},
   "outputs": [],
   "source": []
  }
 ],
 "metadata": {
  "kernelspec": {
   "display_name": "Python 3 (ipykernel)",
   "language": "python",
   "name": "python3"
  },
  "language_info": {
   "codemirror_mode": {
    "name": "ipython",
    "version": 3
   },
   "file_extension": ".py",
   "mimetype": "text/x-python",
   "name": "python",
   "nbconvert_exporter": "python",
   "pygments_lexer": "ipython3",
   "version": "3.11.5"
  }
 },
 "nbformat": 4,
 "nbformat_minor": 5
}
