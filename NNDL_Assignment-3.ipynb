{
 "cells": [
  {
   "cell_type": "markdown",
   "id": "5d4a7bf0",
   "metadata": {},
   "source": [
    "#Question_1\n",
    "\n",
    "'''\n",
    "1. Create a class Employee and then do the following\n",
    "• Create a data member to count the number of Employees\n",
    "• Create a constructor to initialize name, family, salary, department\n",
    "• Create a function to average salary\n",
    "• Create a Fulltime Employee class and it should inherit the properties of Employee class\n",
    "• Create the instances of Fulltime Employee class and Employee class and call their member functions.\n",
    "'''"
   ]
  },
  {
   "cell_type": "code",
   "execution_count": 1,
   "id": "e4651340",
   "metadata": {},
   "outputs": [
    {
     "name": "stdout",
     "output_type": "stream",
     "text": [
      "Full time employee's Details:\n",
      "Average salary: 132500.0\n",
      "Number of Employees :4\n"
     ]
    }
   ],
   "source": [
    "class Employee:\n",
    "    \n",
    "    #creating Employee class with name, family, salary and department\n",
    "    \n",
    "    count_of_employees = 0\n",
    "    # create a data member to count the number of Employees\n",
    "\n",
    "    def __init__(self, name, family, salary, department): #constructor which exucutes without creating an object\n",
    "        self.__name = name\n",
    "        self.__family = family\n",
    "        self.salary = salary\n",
    "        self.__department = department\n",
    "        Employee.count_of_employees += 1\n",
    "\n",
    "    @staticmethod \n",
    "    def avg_salary(employees):  \n",
    "        #create a function to calculate average salary \n",
    "        sum = 0\n",
    "        for employee in employees:\n",
    "            sum += employee.salary\n",
    "        return sum / Employee.count_of_employees\n",
    "\n",
    "class FulltimeEmployee(Employee):\n",
    "    \n",
    "    #FullTimeEmployee is a sub class of Employee\n",
    "    def __init__(self, name, family, salary, department):\n",
    "        super().__init__(name, family, salary, department)\n",
    "\n",
    "    def full_time_benefits(self):\n",
    "        print(\"Full time employee's Details:\")\n",
    "\n",
    "\n",
    "def main():\n",
    "    employees = []\n",
    "    fulltimeemp1 = FulltimeEmployee(\"Saikumar\", \"Fam_1\", 160000, \"Human Resources\")\n",
    "    fulltimeemp1.full_time_benefits()\n",
    "    employees.append(fulltimeemp1)\n",
    "    fulltimeemp2 = FulltimeEmployee(\"Bhanu\", \"Fam_2\", 120000, \"Bigdata Team\")\n",
    "    employees.append(fulltimeemp2)\n",
    "    e1 = Employee(\"Vijay\", \"Fam_3\", 110000, \"Tech support\")\n",
    "    employees.append(e1)\n",
    "    e2 = Employee(\"Rohit\", \"Fam_4\", 140000, \"Marketing\")\n",
    "    employees.append(e2)\n",
    "    print(\"Average salary:\", FulltimeEmployee.avg_salary(employees))\n",
    "    print(\"Number of Employees :\" + str(Employee.count_of_employees))\n",
    "\n",
    "\n",
    "if __name__ == \"__main__\":\n",
    "    main()"
   ]
  },
  {
   "cell_type": "markdown",
   "id": "6f0beca7",
   "metadata": {},
   "source": [
    "#Question_2\n",
    "\n",
    "'''\n",
    "2. Using NumPy create random vector of size 20 having only float in the range 1-20.\n",
    "Then reshape the array to 4 by 5\n",
    "Then replace the max in each row by 0 (axis=1)\n",
    "(you can NOT implement it via for loop)\n",
    "'''"
   ]
  },
  {
   "cell_type": "code",
   "execution_count": 3,
   "id": "17226b16",
   "metadata": {},
   "outputs": [
    {
     "name": "stdout",
     "output_type": "stream",
     "text": [
      "Original array:\n",
      "[14.88698082 19.80559655 19.97644989  2.84214538  7.58687522 19.68690547\n",
      " 15.9157924   3.00566178 14.20937933  3.06223332  2.10464969  4.64128671\n",
      " 12.14766852  4.15558317 12.10274154 18.74076878  8.6551659  19.50782278\n",
      "  2.71201296  2.82775526]\n",
      "[[14.88698082 19.80559655 19.97644989  2.84214538  7.58687522]\n",
      " [19.68690547 15.9157924   3.00566178 14.20937933  3.06223332]\n",
      " [ 2.10464969  4.64128671 12.14766852  4.15558317 12.10274154]\n",
      " [18.74076878  8.6551659  19.50782278  2.71201296  2.82775526]]\n",
      "(4, 5)\n",
      "Maximum value of each row replaced by 0:\n",
      "[[14.88698082 19.80559655  0.          2.84214538  7.58687522]\n",
      " [ 0.         15.9157924   3.00566178 14.20937933  3.06223332]\n",
      " [ 2.10464969  4.64128671  0.          4.15558317 12.10274154]\n",
      " [18.74076878  8.6551659   0.          2.71201296  2.82775526]]\n"
     ]
    }
   ],
   "source": [
    "import numpy as np\n",
    "rand = np.random.uniform(1,20,20) #creating random vector of size 20 which is having only float in the range 1-20.\n",
    "print(\"Original array:\")\n",
    "print(rand)\n",
    "rand=np.reshape(rand,(4,5),order='c') #Reshape the array to 4 by 5 order\n",
    "print(rand)\n",
    "print(np.shape(rand)) #Displays array shape\n",
    "maxNum = np.amax(rand, axis=1)\n",
    "rand=np.where(np.isin(rand,maxNum), 0, rand) #Replace's the max in each row by '0'.\n",
    "print(\"Maximum value of each row replaced by 0:\")\n",
    "print(rand)"
   ]
  },
  {
   "cell_type": "code",
   "execution_count": null,
   "id": "6f7c6c10",
   "metadata": {},
   "outputs": [],
   "source": []
  }
 ],
 "metadata": {
  "kernelspec": {
   "display_name": "Python 3 (ipykernel)",
   "language": "python",
   "name": "python3"
  },
  "language_info": {
   "codemirror_mode": {
    "name": "ipython",
    "version": 3
   },
   "file_extension": ".py",
   "mimetype": "text/x-python",
   "name": "python",
   "nbconvert_exporter": "python",
   "pygments_lexer": "ipython3",
   "version": "3.9.13"
  }
 },
 "nbformat": 4,
 "nbformat_minor": 5
}
